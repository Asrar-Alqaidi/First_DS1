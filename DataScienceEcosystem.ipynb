{
 "cells": [
  {
   "cell_type": "markdown",
   "id": "720f4e46-07b2-488d-8d7d-6237b88a99cb",
   "metadata": {},
   "source": [
    "# Data Science Tools and Ecosystem"
   ]
  },
  {
   "cell_type": "markdown",
   "id": "8488631b-df32-4c66-ac35-816291ebdd39",
   "metadata": {
    "tags": []
   },
   "source": [
    "#### In this notebook, Data Science Tools and Ecosystem are summarized."
   ]
  },
  {
   "cell_type": "markdown",
   "id": "f3b830ba-48f1-4658-9b8d-53ea6a7f9f66",
   "metadata": {},
   "source": [
    "**Objectives:**"
   ]
  },
  {
   "cell_type": "markdown",
   "id": "7dd39134-a9fc-4c3f-8558-2a10fff8b5d3",
   "metadata": {},
   "source": [
    "- popular languages that Data Scientists\n",
    "- libraries used by Data Scientists \n",
    "- Data Science Tools\n",
    "- arithmetic expressions in Python"
   ]
  },
  {
   "cell_type": "markdown",
   "id": "219e924c-e8d2-45c2-896d-1f405f134ca1",
   "metadata": {},
   "source": [
    "##### Some of the popular languages that Data Scientists use are:"
   ]
  },
  {
   "cell_type": "markdown",
   "id": "3b1d9b12-ac06-4bf3-ac52-8490c82e8697",
   "metadata": {},
   "source": [
    "1. python \n",
    "2. SQL\n",
    "3. R Studio"
   ]
  },
  {
   "cell_type": "markdown",
   "id": "9cd69130-703b-4d6a-98af-1c0f6dded8dd",
   "metadata": {},
   "source": [
    "##### Some of the commonly used libraries used by Data Scientists include:"
   ]
  },
  {
   "cell_type": "markdown",
   "id": "e6f3b6b7-9312-4bc9-86e4-daf35852bf1b",
   "metadata": {},
   "source": [
    "1. NumPy\n",
    "2. Pandas\n",
    "3. Matplotlib"
   ]
  },
  {
   "cell_type": "markdown",
   "id": "a9ac5659-1143-47c4-aa55-2dc6668b7535",
   "metadata": {},
   "source": [
    "| Data Science Tools |\n",
    "|--------------------|\n",
    "| Jupyter Notebook    |\n",
    "| Julia               |\n",
    "| Apache Spark               |"
   ]
  },
  {
   "cell_type": "markdown",
   "id": "dcf68245-ac8e-48d3-859b-45bbbe71898c",
   "metadata": {},
   "source": [
    "### Below are a few examples of evaluating arithmetic expressions in Python"
   ]
  },
  {
   "cell_type": "code",
   "execution_count": 1,
   "id": "0556e748-d7fb-4aef-aa5d-bbdf35d61d2e",
   "metadata": {
    "tags": []
   },
   "outputs": [
    {
     "data": {
      "text/plain": [
       "17"
      ]
     },
     "execution_count": 1,
     "metadata": {},
     "output_type": "execute_result"
    }
   ],
   "source": [
    "#This a simple arithmetic expression to mutiply then add integers\n",
    "(3*4)+5"
   ]
  },
  {
   "cell_type": "code",
   "execution_count": 7,
   "id": "69400375-283d-478f-87d0-649c7ef79651",
   "metadata": {
    "tags": []
   },
   "outputs": [
    {
     "name": "stdout",
     "output_type": "stream",
     "text": [
      "convert 200 minutes to hours = \n"
     ]
    },
    {
     "data": {
      "text/plain": [
       "3.3333333333333335"
      ]
     },
     "execution_count": 7,
     "metadata": {},
     "output_type": "execute_result"
    }
   ],
   "source": [
    "#This will convert 200 minutes to hours by diving by 60\n",
    "minutes_hours = 200 / 60 \n",
    "print(\"convert 200 minutes to hours = \")\n",
    "minutes_hours"
   ]
  },
  {
   "cell_type": "markdown",
   "id": "00a0e30f-f4c0-4442-b5f2-cbb8ae039e87",
   "metadata": {},
   "source": [
    "## Author: Asrar Alqaidi"
   ]
  }
 ],
 "metadata": {
  "kernelspec": {
   "display_name": "Python",
   "language": "python",
   "name": "conda-env-python-py"
  },
  "language_info": {
   "codemirror_mode": {
    "name": "ipython",
    "version": 3
   },
   "file_extension": ".py",
   "mimetype": "text/x-python",
   "name": "python",
   "nbconvert_exporter": "python",
   "pygments_lexer": "ipython3",
   "version": "3.7.12"
  }
 },
 "nbformat": 4,
 "nbformat_minor": 5
}
